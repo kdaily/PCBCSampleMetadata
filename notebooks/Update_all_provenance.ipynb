{
 "metadata": {
  "name": "",
  "signature": "sha256:a86cfa9e09585499eec33eaede4ca502cc5c8db1c822292679cd7a4e29735312"
 },
 "nbformat": 3,
 "nbformat_minor": 0,
 "worksheets": [
  {
   "cells": [
    {
     "cell_type": "code",
     "collapsed": false,
     "input": [
      "import sys\n",
      "import pandas as pd\n",
      "\n",
      "import PandaTables\n",
      "import PCBCTables\n",
      "import numpy\n",
      "\n",
      "from multiprocessing.dummy import Pool\n",
      "mp = Pool(5)\n",
      "\n",
      "sys.path.append(\"/home/kdaily/Projects/PCBC/PCBCSampleMetadata/code/\")\n",
      "import BootstrapExperimentalMetadata\n",
      "\n",
      "import synapseHelpers\n",
      "\n",
      "import synapseclient\n",
      "\n",
      "syn = synapseclient.Synapse(skip_checks=True)\n",
      "\n",
      "syn.login(silent=True)"
     ],
     "language": "python",
     "metadata": {},
     "outputs": [],
     "prompt_number": 2
    },
    {
     "cell_type": "code",
     "collapsed": false,
     "input": [
      "metaRNASchema = syn.get(\"syn3156503\")\n",
      "metaRNAResults = syn.tableQuery(\"select * from %s\" % metaRNASchema.id)\n",
      "metaRNA = metaRNAResults.asDataFrame()"
     ],
     "language": "python",
     "metadata": {},
     "outputs": [
      {
       "output_type": "stream",
       "stream": "stdout",
       "text": [
        "...\n"
       ]
      },
      {
       "output_type": "stream",
       "stream": "stdout",
       "text": [
        "\n",
        "\r",
        " [--------------------]0.00% \t0.0bytes/156.3kB "
       ]
      },
      {
       "output_type": "stream",
       "stream": "stdout",
       "text": [
        "\r",
        " [#-------------------]2.56% \t4.0kB/156.3kB "
       ]
      },
      {
       "output_type": "stream",
       "stream": "stdout",
       "text": [
        "\r",
        " [#-------------------]5.12% \t8.0kB/156.3kB "
       ]
      },
      {
       "output_type": "stream",
       "stream": "stdout",
       "text": [
        "\r",
        " [##------------------]7.68% \t12.0kB/156.3kB "
       ]
      },
      {
       "output_type": "stream",
       "stream": "stdout",
       "text": [
        "\r",
        " [##------------------]10.23% \t16.0kB/156.3kB "
       ]
      },
      {
       "output_type": "stream",
       "stream": "stdout",
       "text": [
        "\r",
        " [###-----------------]12.79% \t20.0kB/156.3kB "
       ]
      },
      {
       "output_type": "stream",
       "stream": "stdout",
       "text": [
        "\r",
        " [###-----------------]15.35% \t24.0kB/156.3kB "
       ]
      },
      {
       "output_type": "stream",
       "stream": "stdout",
       "text": [
        "\r",
        " [####----------------]17.91% \t28.0kB/156.3kB "
       ]
      },
      {
       "output_type": "stream",
       "stream": "stdout",
       "text": [
        "\r",
        " [####----------------]20.47% \t32.0kB/156.3kB "
       ]
      },
      {
       "output_type": "stream",
       "stream": "stdout",
       "text": [
        "\r",
        " [#####---------------]23.03% \t36.0kB/156.3kB "
       ]
      },
      {
       "output_type": "stream",
       "stream": "stdout",
       "text": [
        "\r",
        " [#####---------------]25.59% \t40.0kB/156.3kB "
       ]
      },
      {
       "output_type": "stream",
       "stream": "stdout",
       "text": [
        "\r",
        " [######--------------]28.14% \t44.0kB/156.3kB "
       ]
      },
      {
       "output_type": "stream",
       "stream": "stdout",
       "text": [
        "\r",
        " [######--------------]30.70% \t48.0kB/156.3kB "
       ]
      },
      {
       "output_type": "stream",
       "stream": "stdout",
       "text": [
        "\r",
        " [#######-------------]33.26% \t52.0kB/156.3kB "
       ]
      },
      {
       "output_type": "stream",
       "stream": "stdout",
       "text": [
        "\r",
        " [#######-------------]35.82% \t56.0kB/156.3kB "
       ]
      },
      {
       "output_type": "stream",
       "stream": "stdout",
       "text": [
        "\r",
        " [########------------]38.38% \t60.0kB/156.3kB "
       ]
      },
      {
       "output_type": "stream",
       "stream": "stdout",
       "text": [
        "\r",
        " [########------------]40.94% \t64.0kB/156.3kB "
       ]
      },
      {
       "output_type": "stream",
       "stream": "stdout",
       "text": [
        "\r",
        " [#########-----------]43.50% \t68.0kB/156.3kB "
       ]
      },
      {
       "output_type": "stream",
       "stream": "stdout",
       "text": [
        "\r",
        " [#########-----------]46.05% \t72.0kB/156.3kB "
       ]
      },
      {
       "output_type": "stream",
       "stream": "stdout",
       "text": [
        "\r",
        " [##########----------]48.61% \t76.0kB/156.3kB "
       ]
      },
      {
       "output_type": "stream",
       "stream": "stdout",
       "text": [
        "\r",
        " [##########----------]51.17% \t80.0kB/156.3kB "
       ]
      },
      {
       "output_type": "stream",
       "stream": "stdout",
       "text": [
        "\r",
        " [###########---------]53.73% \t84.0kB/156.3kB "
       ]
      },
      {
       "output_type": "stream",
       "stream": "stdout",
       "text": [
        "\r",
        " [###########---------]56.29% \t88.0kB/156.3kB "
       ]
      },
      {
       "output_type": "stream",
       "stream": "stdout",
       "text": [
        "\r",
        " [############--------]58.85% \t92.0kB/156.3kB "
       ]
      },
      {
       "output_type": "stream",
       "stream": "stdout",
       "text": [
        "\r",
        " [############--------]61.41% \t96.0kB/156.3kB "
       ]
      },
      {
       "output_type": "stream",
       "stream": "stdout",
       "text": [
        "\r",
        " [#############-------]63.96% \t100.0kB/156.3kB "
       ]
      },
      {
       "output_type": "stream",
       "stream": "stdout",
       "text": [
        "\r",
        " [#############-------]66.52% \t104.0kB/156.3kB "
       ]
      },
      {
       "output_type": "stream",
       "stream": "stdout",
       "text": [
        "\r",
        " [##############------]69.08% \t108.0kB/156.3kB "
       ]
      },
      {
       "output_type": "stream",
       "stream": "stdout",
       "text": [
        "\r",
        " [##############------]71.64% \t112.0kB/156.3kB "
       ]
      },
      {
       "output_type": "stream",
       "stream": "stdout",
       "text": [
        "\r",
        " [###############-----]74.20% \t116.0kB/156.3kB "
       ]
      },
      {
       "output_type": "stream",
       "stream": "stdout",
       "text": [
        "\r",
        " [###############-----]76.76% \t120.0kB/156.3kB "
       ]
      },
      {
       "output_type": "stream",
       "stream": "stdout",
       "text": [
        "\r",
        " [################----]79.32% \t124.0kB/156.3kB "
       ]
      },
      {
       "output_type": "stream",
       "stream": "stdout",
       "text": [
        "\r",
        " [################----]81.87% \t128.0kB/156.3kB "
       ]
      },
      {
       "output_type": "stream",
       "stream": "stdout",
       "text": [
        "\r",
        " [#################---]84.43% \t132.0kB/156.3kB "
       ]
      },
      {
       "output_type": "stream",
       "stream": "stdout",
       "text": [
        "\r",
        " [#################---]86.99% \t136.0kB/156.3kB "
       ]
      },
      {
       "output_type": "stream",
       "stream": "stdout",
       "text": [
        "\r",
        " [##################--]89.55% \t140.0kB/156.3kB "
       ]
      },
      {
       "output_type": "stream",
       "stream": "stdout",
       "text": [
        "\r",
        " [##################--]92.11% \t144.0kB/156.3kB "
       ]
      },
      {
       "output_type": "stream",
       "stream": "stdout",
       "text": [
        "\r",
        " [###################-]94.67% \t148.0kB/156.3kB "
       ]
      },
      {
       "output_type": "stream",
       "stream": "stdout",
       "text": [
        "\r",
        " [###################-]97.23% \t152.0kB/156.3kB "
       ]
      },
      {
       "output_type": "stream",
       "stream": "stdout",
       "text": [
        "\r",
        " [####################]99.78% \t156.0kB/156.3kB "
       ]
      }
     ],
     "prompt_number": 3
    },
    {
     "cell_type": "code",
     "collapsed": false,
     "input": [
      "raw_file_types = ['fastq', 'idat']\n",
      "q_template = \"select id,UID,fileType,fileSubType,Cell_Line_Type,Diffname_short from file where projectId=='syn1773109' AND Cell_Line_Type=='%(Cell_Line_Type)s' AND Diffname_short=='%(Diffname_short)s' AND fileType=='%(fileType)s'\""
     ],
     "language": "python",
     "metadata": {},
     "outputs": [],
     "prompt_number": 4
    },
    {
     "cell_type": "markdown",
     "metadata": {},
     "source": [
      "## hESC"
     ]
    },
    {
     "cell_type": "code",
     "collapsed": false,
     "input": [
      "protocolActivityDicthESC = {\"SC\": synapseclient.Activity(name=\"Sample Processing\", used=[\"syn2724707\"]),\n",
      "                            \"EB\": synapseclient.Activity(name=\"Sample Processing\", used=[\"syn2724707\", \"syn2512370\"]),\n",
      "                            \"DE\": synapseclient.Activity(name=\"Sample Processing\", used=[\"syn2724707\", \"syn2512372\"]),\n",
      "                            \"ECTO\": synapseclient.Activity(name=\"Sample Processing\", used=[\"syn2724707\", \"syn2512373\"]),\n",
      "                            \"MESO-5\": synapseclient.Activity(name=\"Sample Processing\", used=[\"syn2724707\", \"syn2512371\"]),\n",
      "                            \"MESO-15\": synapseclient.Activity(name=\"Sample Processing\", used=[\"syn2724707\", \"syn2512371\"]),\n",
      "                            \"MESO-30\": synapseclient.Activity(name=\"Sample Processing\", used=[\"syn2724707\", \"syn2512371\"])}"
     ],
     "language": "python",
     "metadata": {},
     "outputs": [],
     "prompt_number": 51
    },
    {
     "cell_type": "code",
     "collapsed": false,
     "input": [
      "for fileType in raw_file_types:\n",
      "    for (Diffname_short, activity) in protocolActivityDicthESC.iteritems():\n",
      "        q = q_template % (dict(fileType=fileType, Diffname_short=Diffname_short, Cell_Line_Type=\"ESC\"))\n",
      "        \n",
      "        mRNATbl = synapseHelpers.query2df(syn.chunkedQuery(q), filterSynapseFields=False)\n",
      "        \n",
      "        mp = Pool(5)\n",
      "        res = mp.map(lambda (x, y): syn.setProvenance(syn.get(y[\"id\"], downloadFile=False),\n",
      "                                                      activity),\n",
      "                     mRNATbl.iterrows())\n",
      "        mp.close()"
     ],
     "language": "python",
     "metadata": {},
     "outputs": [],
     "prompt_number": 11
    },
    {
     "cell_type": "markdown",
     "metadata": {},
     "source": [
      "## iPSC"
     ]
    },
    {
     "cell_type": "code",
     "collapsed": false,
     "input": [
      "protocolActivityDictiPSC = {\"EB\": synapseclient.Activity(name=\"Sample Processing\", used=[\"syn2512370\"]),\n",
      "                            \"DE\": synapseclient.Activity(name=\"Sample Processing\", used=[\"syn2512372\"]),\n",
      "                            \"ECTO\": synapseclient.Activity(name=\"Sample Processing\", used=[\"syn2512373\"]),\n",
      "                            \"MESO-5\": synapseclient.Activity(name=\"Sample Processing\", used=[\"syn2512371\"]),\n",
      "                            \"MESO-15\": synapseclient.Activity(name=\"Sample Processing\", used=[\"syn2512371\"]),\n",
      "                            \"MESO-30\": synapseclient.Activity(name=\"Sample Processing\", used=[\"syn2512371\"])}"
     ],
     "language": "python",
     "metadata": {},
     "outputs": [],
     "prompt_number": 50
    },
    {
     "cell_type": "code",
     "collapsed": false,
     "input": [
      "for fileType in raw_file_types:\n",
      "    for (Diffname_short, activity) in protocolActivityDictiPSC.iteritems():\n",
      "        q = q_template % (dict(fileType=fileType, Diffname_short=Diffname_short, Cell_Line_Type=\"iPSC\"))\n",
      "        mRNATbl = synapseHelpers.query2df(syn.chunkedQuery(q), filterSynapseFields=False)\n",
      "        \n",
      "        mp = Pool(5)\n",
      "        res = mp.map(lambda (x, y): syn.setProvenance(syn.get(y[\"id\"], downloadFile=False),\n",
      "                                                      activity),\n",
      "                     mRNATbl.iterrows())\n",
      "        mp.close()"
     ],
     "language": "python",
     "metadata": {},
     "outputs": [],
     "prompt_number": 49
    },
    {
     "cell_type": "markdown",
     "metadata": {},
     "source": [
      "## Fred Hutch samples\n",
      "\n",
      "Has retrovirus and episomal samples, as well as a couple that were differentiated to EB.\n",
      "So, using `biologicalSampleName` to get them properly."
     ]
    },
    {
     "cell_type": "code",
     "collapsed": false,
     "input": [
      "protocolActivityDictFHCRC = {#\"SC12-020\": synapseclient.Activity(name=\"Sample Processing\", used=[\"syn2534308\"]),\n",
      "                             #\"SC11-001A\": synapseclient.Activity(name=\"Sample Processing\", used=[\"syn2534313\"]),\n",
      "                             #\"SC11-001B\": synapseclient.Activity(name=\"Sample Processing\", used=[\"syn2534313\"]),\n",
      "                             #\"SC12-002A\": synapseclient.Activity(name=\"Sample Processing\", used=[\"syn2534313\"]),\n",
      "                             #\"SC12-019\": synapseclient.Activity(name=\"Sample Processing\", used=[\"syn2534313\"]),\n",
      "                             #\"SC11-001AEB\": synapseclient.Activity(name=\"Sample Processing\", used=[\"syn2534313\", \"syn2512370\"]),\n",
      "                             \"SC11-001BEB\": synapseclient.Activity(name=\"Sample Processing\", used=[\"syn2534313\", \"syn2512370\"]),\n",
      "                             #\"SC12-019EB\": synapseclient.Activity(name=\"Sample Processing\", used=[\"syn2534313\", \"syn2512370\"])\n",
      "                             }"
     ],
     "language": "python",
     "metadata": {},
     "outputs": [],
     "prompt_number": 22
    },
    {
     "cell_type": "code",
     "collapsed": false,
     "input": [
      "q_template = \"select id,UID,fileType,fileSubType,Cell_Line_Type,Diffname_short from file where projectId=='syn1773109' AND Originating_Lab=='Torok-Storb' AND biologicalSampleName=='%(biologicalSampleName)s' AND fileType=='%(fileType)s'\""
     ],
     "language": "python",
     "metadata": {},
     "outputs": [],
     "prompt_number": 23
    },
    {
     "cell_type": "code",
     "collapsed": false,
     "input": [
      "for fileType in raw_file_types:\n",
      "    for (biologicalSampleName, activity) in protocolActivityDictFHCRC.iteritems():\n",
      "        q = q_template % (dict(fileType=fileType, biologicalSampleName=biologicalSampleName))\n",
      "        #print(q)\n",
      "        mRNATbl = synapseHelpers.query2df(syn.chunkedQuery(q), filterSynapseFields=False)\n",
      "        #print(mRNATbl)\n",
      "        \n",
      "        mp = Pool(5)\n",
      "        res = mp.map(lambda (x, y): syn.setProvenance(syn.get(y[\"id\"], downloadFile=False),\n",
      "                                                      activity),\n",
      "                     mRNATbl.iterrows())\n",
      "        mp.close()"
     ],
     "language": "python",
     "metadata": {},
     "outputs": [],
     "prompt_number": 24
    },
    {
     "cell_type": "code",
     "collapsed": false,
     "input": [],
     "language": "python",
     "metadata": {},
     "outputs": []
    }
   ],
   "metadata": {}
  }
 ]
}