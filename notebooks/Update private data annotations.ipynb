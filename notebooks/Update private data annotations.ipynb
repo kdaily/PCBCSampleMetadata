{
 "metadata": {
  "name": "",
  "signature": "sha256:f551e405559eb20b5decf651b69dd6a9db3c2a4dca73ae9459066561d7a15184"
 },
 "nbformat": 3,
 "nbformat_minor": 0,
 "worksheets": [
  {
   "cells": [
    {
     "cell_type": "markdown",
     "metadata": {},
     "source": [
      "Update the private metadata annotations. The file used to update was hand-edited to correct many issues with sampleNames, UIDs, and C4_Cell_Line_IDs because they were not easily parsable."
     ]
    },
    {
     "cell_type": "code",
     "collapsed": false,
     "input": [
      "import sys\n",
      "import tempfile\n",
      "import csv\n",
      "\n",
      "import pandas as pd\n",
      "import synapseclient\n",
      "\n",
      "sys.path.append(\"/home/kdaily/Projects/PCBC/PCBCSampleMetadata/code/\")\n",
      "import UpdateAnnotations\n",
      "import PandasTable\n",
      "import PCBCAnnotations\n",
      "\n",
      "syn = synapseclient.login(silent=True)"
     ],
     "language": "python",
     "metadata": {},
     "outputs": [],
     "prompt_number": 1
    },
    {
     "cell_type": "markdown",
     "metadata": {},
     "source": [
      "Hand curated list of files to update."
     ]
    },
    {
     "cell_type": "code",
     "collapsed": false,
     "input": [
      "fn = \"/home/kdaily/Projects/PCBC/PCBCSampleMetadata/data/private_annotations_temp.csv\"\n",
      "pcbc_experimental_metadata = pd.DataFrame(list(csv.DictReader(file(fn), delimiter=',')))"
     ],
     "language": "python",
     "metadata": {},
     "outputs": [],
     "prompt_number": 2
    },
    {
     "cell_type": "code",
     "collapsed": false,
     "input": [
      "pcbc_experimental_metadata = pcbc_experimental_metadata[pcbc_experimental_metadata[\"C4_Cell_Line_ID\"] != \"\"]"
     ],
     "language": "python",
     "metadata": {},
     "outputs": [],
     "prompt_number": 9
    },
    {
     "cell_type": "markdown",
     "metadata": {},
     "source": [
      "Get the cell line metadata."
     ]
    },
    {
     "cell_type": "code",
     "collapsed": false,
     "input": [
      "cellline_metadata = PandasTable.PandasTable(syn=syn, table_id=\"syn2767694\")"
     ],
     "language": "python",
     "metadata": {},
     "outputs": [
      {
       "output_type": "stream",
       "stream": "stdout",
       "text": [
        "...\n"
       ]
      },
      {
       "output_type": "stream",
       "stream": "stdout",
       "text": [
        "\n"
       ]
      }
     ],
     "prompt_number": 11
    },
    {
     "cell_type": "markdown",
     "metadata": {},
     "source": [
      "Do the merge."
     ]
    },
    {
     "cell_type": "code",
     "collapsed": false,
     "input": [
      "merged_metadata = pd.merge(pcbc_experimental_metadata, cellline_metadata, on=\"C4_Cell_Line_ID\", how=\"left\")"
     ],
     "language": "python",
     "metadata": {},
     "outputs": [],
     "prompt_number": 12
    },
    {
     "cell_type": "code",
     "collapsed": false,
     "input": [
      "tmpfile = tempfile.NamedTemporaryFile(delete=True)\n",
      "merged_metadata.to_csv(tmpfile.name, sep=\"\\t\", index=False)\n",
      "bootstrapped_data = list(csv.DictReader(tmpfile, delimiter='\\t'))\n",
      "tmpfile.close()"
     ],
     "language": "python",
     "metadata": {},
     "outputs": [],
     "prompt_number": 17
    },
    {
     "cell_type": "markdown",
     "metadata": {},
     "source": [
      "## Update annotations with cell line fields\n",
      "\n",
      "Now, we use this data to add the cell line annotations."
     ]
    },
    {
     "cell_type": "code",
     "collapsed": false,
     "input": [
      "dryrun = False\n",
      "overwrite = True\n",
      "\n",
      "updater = UpdateAnnotations.UpdatePCBCCellLineAnnotations(syn, bootstrapped_data)\n",
      "updater.update_annotations(overwrite=overwrite, dryrun=dryrun, verbose=False)"
     ],
     "language": "python",
     "metadata": {},
     "outputs": [],
     "prompt_number": 18
    }
   ],
   "metadata": {}
  }
 ]
}