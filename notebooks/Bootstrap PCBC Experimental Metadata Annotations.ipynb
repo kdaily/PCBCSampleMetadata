{
 "metadata": {
  "name": "",
  "signature": "sha256:6a30a3dfb564f70db2a77fdac0266bcc2a5a264bced0fb8a9f6976635e06bf79"
 },
 "nbformat": 3,
 "nbformat_minor": 0,
 "worksheets": [
  {
   "cells": [
    {
     "cell_type": "markdown",
     "metadata": {},
     "source": [
      "Create a bootstrapped set of annotations for files related to PCBC analyses from mRNA, miRNA, and methylation assays. The current annotations were missing key pieces of information that was only coded in static files, making downstream generation of metadata tables problematic. This adds that information to annotations on as many files as I could find."
     ]
    },
    {
     "cell_type": "markdown",
     "metadata": {},
     "source": [
      "This notebook is available in script form as well in the following two steps:\n",
      "\n",
      "1. `PCBC/PCBCSampleMetadata/code/create_experimental_metadata.py`\n",
      "2. `PCBC/PCBCSampleMetadata/code/bootstrap_pcbc_annotations.py`"
     ]
    },
    {
     "cell_type": "code",
     "collapsed": false,
     "input": [
      "import sys\n",
      "import tempfile\n",
      "import csv\n",
      "\n",
      "import pandas as pd\n",
      "import synapseclient\n",
      "\n",
      "# For BootstrapExperimentalMetadata\n",
      "sys.path.append(\"/home/kdaily/Projects/PCBC/PCBCSampleMetadata/code/\")\n",
      "import BootstrapExperimentalMetadata\n",
      "\n",
      "syn = synapseclient.login(silent=True)"
     ],
     "language": "python",
     "metadata": {},
     "outputs": [],
     "prompt_number": 18
    },
    {
     "cell_type": "markdown",
     "metadata": {},
     "source": [
      "## Create all required experimental metadata\n",
      "\n",
      "This first section uses existing annotations and the static files to create the set of annotations that should be available, ONLY about the experiments themselves, not about the cell lines. This should be performed elsewhere.\n",
      "\n",
      "Each of these is created internally by a query on existing annotations and getting a static metadata file from Synapse for each of the assay types (mRNA, miRNA, and methylation). It is done separately for different file types because annotation queries cannot have `OR` statements in them."
     ]
    },
    {
     "cell_type": "markdown",
     "metadata": {},
     "source": [
      "### mRNA metadata from bam, bed, fastq, and fpkm files"
     ]
    },
    {
     "cell_type": "code",
     "collapsed": false,
     "input": [
      "pcbcmeta = BootstrapExperimentalMetadata.MRNABamMetadata(syn)\n",
      "pcbc_mrna_bam = pcbcmeta()\n",
      "\n",
      "pcbcmeta = BootstrapExperimentalMetadata.MRNABedMetadata(syn)\n",
      "pcbc_mrna_bed = pcbcmeta()\n",
      "\n",
      "pcbcmeta = BootstrapExperimentalMetadata.MRNAFastqMetadata(syn)\n",
      "pcbc_mrna_fastq = pcbcmeta()\n",
      "\n",
      "pcbcmeta = BootstrapExperimentalMetadata.MRNAFpkmMetadata(syn)\n",
      "pcbc_mrna_fpkm = pcbcmeta()"
     ],
     "language": "python",
     "metadata": {},
     "outputs": [],
     "prompt_number": 5
    },
    {
     "cell_type": "markdown",
     "metadata": {},
     "source": [
      "### miRNA metadata from Fastq and Expr files"
     ]
    },
    {
     "cell_type": "code",
     "collapsed": false,
     "input": [
      "pcbcmeta = BootstrapExperimentalMetadata.MIRNAFastqMetadata(syn)\n",
      "pcbc_mirna_fastq = pcbcmeta()\n",
      "\n",
      "pcbcmeta = BootstrapExperimentalMetadata.MIRNAExprMetadata(syn)\n",
      "pcbc_mirna_expr = pcbcmeta()"
     ],
     "language": "python",
     "metadata": {},
     "outputs": [],
     "prompt_number": 6
    },
    {
     "cell_type": "markdown",
     "metadata": {},
     "source": [
      "### methylation metadata from idat files"
     ]
    },
    {
     "cell_type": "code",
     "collapsed": false,
     "input": [
      "pcbcmeta = BootstrapExperimentalMetadata.MethylMetadata(syn)\n",
      "pcbc_methyl = pcbcmeta()"
     ],
     "language": "python",
     "metadata": {},
     "outputs": [],
     "prompt_number": 7
    },
    {
     "cell_type": "markdown",
     "metadata": {},
     "source": [
      "### Concatenate all files for further use"
     ]
    },
    {
     "cell_type": "code",
     "collapsed": false,
     "input": [
      "pcbc_sample_metadata = pd.concat([pcbc_mrna_bam, pcbc_mrna_bed, pcbc_mrna_fpkm, pcbc_mrna_fastq,\n",
      "                                  pcbc_mirna_fastq, pcbc_mirna_expr,\n",
      "                                  pcbc_methyl],\n",
      "                                 ignore_index=True)\n",
      "\n",
      "_keepcols = [\"name\", \"id\", \"UID\", \"C4_Cell_Line_ID\",\n",
      "             \"Diffname_short\", \"dataType\", \"fileType\"]\n",
      "\n",
      "pcbc_sample_metadata = pcbc_sample_metadata[_keepcols]"
     ],
     "language": "python",
     "metadata": {},
     "outputs": [],
     "prompt_number": 8
    },
    {
     "cell_type": "markdown",
     "metadata": {},
     "source": [
      "Write out and read back in to simulate script (requires input from csv.DictReader)"
     ]
    },
    {
     "cell_type": "code",
     "collapsed": false,
     "input": [
      "tmpfile = tempfile.NamedTemporaryFile(delete=True)\n",
      "pcbc_sample_metadata.to_csv(tmpfile.name, sep=\"\\t\", index=False)\n",
      "bootstrapped_data = list(csv.DictReader(tmpfile, delimiter='\\t'))\n",
      "tmpfile.close()"
     ],
     "language": "python",
     "metadata": {},
     "outputs": [],
     "prompt_number": 33
    },
    {
     "cell_type": "code",
     "collapsed": false,
     "input": [
      "pcbc_sample_metadata[1,].UID"
     ],
     "language": "python",
     "metadata": {},
     "outputs": []
    },
    {
     "cell_type": "markdown",
     "metadata": {},
     "source": [
      "## Update annotations with minimum fields\n",
      "\n",
      "Now, we use this data to add the experimental annotations back that should be there."
     ]
    },
    {
     "cell_type": "code",
     "collapsed": false,
     "input": [
      "# Don't change these unless you want to actually do an update.\n",
      "# You should probably should be running the script to do this.\n",
      "# This is only for educational purposes\n",
      "import UpdateAnnotations\n",
      "reload(UpdateAnnotations)\n",
      "dryrun = True\n",
      "overwrite = False\n",
      "\n",
      "updater = UpdateAnnotations.UpdatePCBCAnnotations(syn, pcbc_sample_metadata)\n",
      "updater.update_annotations(overwrite=overwrite, dryrun=dryrun, verbose=True)"
     ],
     "language": "python",
     "metadata": {},
     "outputs": []
    }
   ],
   "metadata": {}
  }
 ]
}