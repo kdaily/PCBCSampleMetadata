{
 "metadata": {
  "name": "",
  "signature": "sha256:e16d07d6d7da6fbef7e939c1377e4bc14750a49427ce8a0895dbb6717465166c"
 },
 "nbformat": 3,
 "nbformat_minor": 0,
 "worksheets": [
  {
   "cells": [
    {
     "cell_type": "markdown",
     "metadata": {},
     "source": [
      "Add cell line annotations to files related to PCBC analyses from mRNA, miRNA, and methylation assays. Requires that the files have an annotation called `C4_Cell_Line_ID` which will be used to merge and pull the cell line level annotations from a Synapse table."
     ]
    },
    {
     "cell_type": "markdown",
     "metadata": {},
     "source": [
      "This notebook SHOULD BE MADE AVAILABLE in script form as well."
     ]
    },
    {
     "cell_type": "code",
     "collapsed": false,
     "input": [
      "import sys\n",
      "import tempfile\n",
      "import csv\n",
      "\n",
      "import pandas as pd\n",
      "import synapseclient\n",
      "\n",
      "# For BootstrapExperimentalMetadata\n",
      "sys.path.append(\"/home/kdaily/Projects/PCBC/PCBCSampleMetadata/code/\")\n",
      "import UpdateAnnotations\n",
      "import PandasTable\n",
      "\n",
      "syn = synapseclient.login(silent=True)"
     ],
     "language": "python",
     "metadata": {},
     "outputs": [],
     "prompt_number": 1
    },
    {
     "cell_type": "code",
     "collapsed": false,
     "input": [
      "cellline_metadata = PandasTable.PandasTable(syn=syn, table_id=\"syn2767694\")"
     ],
     "language": "python",
     "metadata": {},
     "outputs": [
      {
       "output_type": "stream",
       "stream": "stdout",
       "text": [
        "...\n"
       ]
      },
      {
       "output_type": "stream",
       "stream": "stdout",
       "text": [
        "\n"
       ]
      }
     ],
     "prompt_number": 12
    },
    {
     "cell_type": "code",
     "collapsed": false,
     "input": [
      "pcbc_experimental_metadata = PandasTable.PandasTable(syn=syn, table_id=\"syn2811171\")"
     ],
     "language": "python",
     "metadata": {},
     "outputs": [
      {
       "output_type": "stream",
       "stream": "stdout",
       "text": [
        "...\n"
       ]
      },
      {
       "output_type": "stream",
       "stream": "stdout",
       "text": [
        "\n",
        "\n"
       ]
      }
     ],
     "prompt_number": 33
    },
    {
     "cell_type": "code",
     "collapsed": false,
     "input": [
      "pcbc_experimental_metadata = pcbc_experimental_metadata[pcbc_experimental_metadata[\"C4_Cell_Line_ID\"].notnull()]"
     ],
     "language": "python",
     "metadata": {},
     "outputs": [],
     "prompt_number": 34
    },
    {
     "cell_type": "code",
     "collapsed": false,
     "input": [
      "merged_metadata = pd.merge(pcbc_experimental_metadata, cellline_metadata, on=\"C4_Cell_Line_ID\", how=\"left\")"
     ],
     "language": "python",
     "metadata": {},
     "outputs": [],
     "prompt_number": 35
    },
    {
     "cell_type": "code",
     "collapsed": false,
     "input": [
      "tmpfile = tempfile.NamedTemporaryFile(delete=True)\n",
      "merged_metadata.to_csv(tmpfile.name, sep=\"\\t\", index=False)\n",
      "bootstrapped_data = list(csv.DictReader(tmpfile, delimiter='\\t'))\n",
      "tmpfile.close()"
     ],
     "language": "python",
     "metadata": {},
     "outputs": [],
     "prompt_number": 36
    },
    {
     "cell_type": "markdown",
     "metadata": {},
     "source": [
      "## Update annotations with cell line fields\n",
      "\n",
      "Now, we use this data to add the cell line annotations."
     ]
    },
    {
     "cell_type": "code",
     "collapsed": false,
     "input": [
      "# Don't change these unless you want to actually do an update.\n",
      "# You should probably should be running the script to do this.\n",
      "# This is only for educational purposes\n",
      "import UpdateAnnotations\n",
      "reload(UpdateAnnotations)\n",
      "\n",
      "dryrun = False\n",
      "overwrite = True\n",
      "\n",
      "updater = UpdateAnnotations.UpdatePCBCCellLineAnnotations(syn, bootstrapped_data)\n",
      "updater.update_annotations(overwrite=overwrite, dryrun=dryrun, verbose=False)"
     ],
     "language": "python",
     "metadata": {},
     "outputs": [],
     "prompt_number": 37
    }
   ],
   "metadata": {}
  }
 ]
}